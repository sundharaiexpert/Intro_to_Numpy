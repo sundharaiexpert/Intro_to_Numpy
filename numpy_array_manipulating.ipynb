{
 "cells": [
  {
   "cell_type": "markdown",
   "id": "dc04ea04",
   "metadata": {},
   "source": [
    "##  3.viewing arrays and matrics"
   ]
  },
  {
   "cell_type": "code",
   "execution_count": 1,
   "id": "89cdb7f9",
   "metadata": {},
   "outputs": [],
   "source": [
    "import numpy as np\n"
   ]
  },
  {
   "cell_type": "code",
   "execution_count": 2,
   "id": "796a9bfa",
   "metadata": {},
   "outputs": [
    {
     "data": {
      "text/plain": [
       "array([[0, 5, 1],\n",
       "       [8, 1, 9],\n",
       "       [3, 0, 5],\n",
       "       [8, 8, 0],\n",
       "       [5, 2, 5]])"
      ]
     },
     "execution_count": 2,
     "metadata": {},
     "output_type": "execute_result"
    }
   ],
   "source": [
    "np.random.seed(seed = 999)\n",
    "random_array_4 = np.random.randint(10, size=(5,3))\n",
    "random_array_4"
   ]
  },
  {
   "cell_type": "code",
   "execution_count": 3,
   "id": "210d060d",
   "metadata": {},
   "outputs": [
    {
     "data": {
      "text/plain": [
       "array([0, 1, 2, 3, 5, 8, 9])"
      ]
     },
     "execution_count": 3,
     "metadata": {},
     "output_type": "execute_result"
    }
   ],
   "source": [
    "np.unique(random_array_4)"
   ]
  },
  {
   "cell_type": "code",
   "execution_count": 4,
   "id": "bd740233",
   "metadata": {},
   "outputs": [],
   "source": [
    "a3 = np.array([[[1, 2, 3],\n",
    "                [4, 5, 6]],\n",
    "                [[7, 8, 9],\n",
    "                [10, 11, 12]],\n",
    "                [[13, 14, 15],\n",
    "                [16, 17, 18]]])"
   ]
  },
  {
   "cell_type": "code",
   "execution_count": 5,
   "id": "6b9b2ae9",
   "metadata": {},
   "outputs": [],
   "source": [
    "a1 = np.array([1,2,3])"
   ]
  },
  {
   "cell_type": "code",
   "execution_count": 7,
   "id": "2553d731",
   "metadata": {},
   "outputs": [
    {
     "data": {
      "text/plain": [
       "1"
      ]
     },
     "execution_count": 7,
     "metadata": {},
     "output_type": "execute_result"
    }
   ],
   "source": [
    " a1[0]"
   ]
  },
  {
   "cell_type": "code",
   "execution_count": 8,
   "id": "1bb0067e",
   "metadata": {},
   "outputs": [
    {
     "data": {
      "text/plain": [
       "(3, 2, 3)"
      ]
     },
     "execution_count": 8,
     "metadata": {},
     "output_type": "execute_result"
    }
   ],
   "source": [
    "a3.shape"
   ]
  },
  {
   "cell_type": "code",
   "execution_count": 9,
   "id": "df945bbb",
   "metadata": {},
   "outputs": [
    {
     "data": {
      "text/plain": [
       "array([[1, 2, 3],\n",
       "       [4, 5, 6]])"
      ]
     },
     "execution_count": 9,
     "metadata": {},
     "output_type": "execute_result"
    }
   ],
   "source": [
    "a3[0]"
   ]
  },
  {
   "cell_type": "code",
   "execution_count": 10,
   "id": "3311be92",
   "metadata": {},
   "outputs": [
    {
     "data": {
      "text/plain": [
       "array([1, 2, 3])"
      ]
     },
     "execution_count": 10,
     "metadata": {},
     "output_type": "execute_result"
    }
   ],
   "source": [
    "# 1 Dimension is vector\n",
    "a1"
   ]
  },
  {
   "cell_type": "code",
   "execution_count": 12,
   "id": "860bbec6",
   "metadata": {},
   "outputs": [],
   "source": [
    "a2 = np.array([[1,2,3],\n",
    "               [4,5,6]])"
   ]
  },
  {
   "cell_type": "code",
   "execution_count": 13,
   "id": "5cb3e29b",
   "metadata": {},
   "outputs": [
    {
     "data": {
      "text/plain": [
       "(2, 3)"
      ]
     },
     "execution_count": 13,
     "metadata": {},
     "output_type": "execute_result"
    }
   ],
   "source": [
    "a2.shape"
   ]
  },
  {
   "cell_type": "code",
   "execution_count": 14,
   "id": "2e51de82",
   "metadata": {},
   "outputs": [
    {
     "data": {
      "text/plain": [
       "array([1, 2, 3])"
      ]
     },
     "execution_count": 14,
     "metadata": {},
     "output_type": "execute_result"
    }
   ],
   "source": [
    "a2[0]"
   ]
  },
  {
   "cell_type": "code",
   "execution_count": 16,
   "id": "52ce280f",
   "metadata": {},
   "outputs": [
    {
     "name": "stdout",
     "output_type": "stream",
     "text": [
      "itvitvitvitvitvitv\n"
     ]
    }
   ],
   "source": [
    "var = \"itv\" * 2 * 3\n",
    "print(var)"
   ]
  },
  {
   "cell_type": "code",
   "execution_count": 17,
   "id": "6a97a017",
   "metadata": {},
   "outputs": [
    {
     "data": {
      "text/plain": [
       "array([[[ 1,  2],\n",
       "        [ 4,  5]],\n",
       "\n",
       "       [[ 7,  8],\n",
       "        [10, 11]]])"
      ]
     },
     "execution_count": 17,
     "metadata": {},
     "output_type": "execute_result"
    }
   ],
   "source": [
    "a3[:2,:2,:2]"
   ]
  },
  {
   "cell_type": "code",
   "execution_count": 18,
   "id": "c9d72d0a",
   "metadata": {},
   "outputs": [
    {
     "data": {
      "text/plain": [
       "array([[[ 1,  2,  3],\n",
       "        [ 4,  5,  6]],\n",
       "\n",
       "       [[ 7,  8,  9],\n",
       "        [10, 11, 12]],\n",
       "\n",
       "       [[13, 14, 15],\n",
       "        [16, 17, 18]]])"
      ]
     },
     "execution_count": 18,
     "metadata": {},
     "output_type": "execute_result"
    }
   ],
   "source": [
    "a3"
   ]
  },
  {
   "cell_type": "code",
   "execution_count": 19,
   "id": "cb181f44",
   "metadata": {},
   "outputs": [],
   "source": [
    "a4 = np.random.randint(10, size =(2,3,4,5))\n",
    "# 5 - outside to inside this 5 columns\n",
    "# 4 - rows\n",
    "# 3 - 3 array blocks for each 4 rows with 5 colummns\n",
    "# 2 - 2 outside "
   ]
  },
  {
   "cell_type": "code",
   "execution_count": 20,
   "id": "5f97277c",
   "metadata": {},
   "outputs": [
    {
     "data": {
      "text/plain": [
       "array([[[[7, 4, 6, 2, 7],\n",
       "         [6, 1, 5, 3, 6],\n",
       "         [4, 0, 9, 4, 4],\n",
       "         [8, 7, 2, 7, 4]],\n",
       "\n",
       "        [[4, 5, 1, 6, 8],\n",
       "         [9, 1, 1, 1, 6],\n",
       "         [3, 3, 8, 9, 0],\n",
       "         [1, 4, 0, 6, 4]],\n",
       "\n",
       "        [[7, 3, 4, 9, 7],\n",
       "         [4, 6, 4, 7, 3],\n",
       "         [0, 4, 4, 6, 8],\n",
       "         [6, 0, 4, 6, 7]]],\n",
       "\n",
       "\n",
       "       [[[0, 1, 2, 5, 7],\n",
       "         [9, 2, 1, 2, 3],\n",
       "         [3, 2, 3, 3, 4],\n",
       "         [1, 6, 5, 9, 1]],\n",
       "\n",
       "        [[2, 2, 3, 8, 0],\n",
       "         [0, 9, 5, 0, 7],\n",
       "         [0, 5, 2, 8, 4],\n",
       "         [6, 8, 9, 4, 7]],\n",
       "\n",
       "        [[9, 5, 2, 5, 8],\n",
       "         [3, 3, 9, 9, 9],\n",
       "         [6, 8, 9, 4, 9],\n",
       "         [0, 5, 7, 8, 4]]]])"
      ]
     },
     "execution_count": 20,
     "metadata": {},
     "output_type": "execute_result"
    }
   ],
   "source": [
    "a4"
   ]
  },
  {
   "cell_type": "code",
   "execution_count": 21,
   "id": "f8e657a8",
   "metadata": {},
   "outputs": [
    {
     "data": {
      "text/plain": [
       "(2, 3, 4, 5)"
      ]
     },
     "execution_count": 21,
     "metadata": {},
     "output_type": "execute_result"
    }
   ],
   "source": [
    "a4.shape"
   ]
  },
  {
   "cell_type": "code",
   "execution_count": 22,
   "id": "1f763396",
   "metadata": {},
   "outputs": [
    {
     "data": {
      "text/plain": [
       "(3,)"
      ]
     },
     "execution_count": 22,
     "metadata": {},
     "output_type": "execute_result"
    }
   ],
   "source": [
    "a1.shape"
   ]
  },
  {
   "cell_type": "code",
   "execution_count": 23,
   "id": "dc8fb310",
   "metadata": {},
   "outputs": [
    {
     "data": {
      "text/plain": [
       "(2, 3)"
      ]
     },
     "execution_count": 23,
     "metadata": {},
     "output_type": "execute_result"
    }
   ],
   "source": [
    "a2.shape"
   ]
  },
  {
   "cell_type": "code",
   "execution_count": 24,
   "id": "9cc617bf",
   "metadata": {},
   "outputs": [
    {
     "data": {
      "text/plain": [
       "array([[1, 2, 3],\n",
       "       [4, 5, 6]])"
      ]
     },
     "execution_count": 24,
     "metadata": {},
     "output_type": "execute_result"
    }
   ],
   "source": [
    "a2"
   ]
  },
  {
   "cell_type": "code",
   "execution_count": 25,
   "id": "1d885dad",
   "metadata": {},
   "outputs": [
    {
     "data": {
      "text/plain": [
       "array([1, 2, 3])"
      ]
     },
     "execution_count": 25,
     "metadata": {},
     "output_type": "execute_result"
    }
   ],
   "source": [
    "a1"
   ]
  },
  {
   "cell_type": "code",
   "execution_count": 26,
   "id": "71adb43a",
   "metadata": {},
   "outputs": [
    {
     "data": {
      "text/plain": [
       "1"
      ]
     },
     "execution_count": 26,
     "metadata": {},
     "output_type": "execute_result"
    }
   ],
   "source": [
    "a1.ndim"
   ]
  },
  {
   "cell_type": "code",
   "execution_count": 27,
   "id": "9c69488c",
   "metadata": {},
   "outputs": [
    {
     "data": {
      "text/plain": [
       "2"
      ]
     },
     "execution_count": 27,
     "metadata": {},
     "output_type": "execute_result"
    }
   ],
   "source": [
    "a2.ndim"
   ]
  },
  {
   "cell_type": "code",
   "execution_count": 28,
   "id": "ac69b3cf",
   "metadata": {},
   "outputs": [
    {
     "data": {
      "text/plain": [
       "3"
      ]
     },
     "execution_count": 28,
     "metadata": {},
     "output_type": "execute_result"
    }
   ],
   "source": [
    "a3.ndim"
   ]
  },
  {
   "cell_type": "code",
   "execution_count": 29,
   "id": "5343ad9e",
   "metadata": {},
   "outputs": [
    {
     "data": {
      "text/plain": [
       "4"
      ]
     },
     "execution_count": 29,
     "metadata": {},
     "output_type": "execute_result"
    }
   ],
   "source": [
    "a4.ndim"
   ]
  },
  {
   "cell_type": "code",
   "execution_count": 30,
   "id": "9e88c403",
   "metadata": {},
   "outputs": [
    {
     "data": {
      "text/plain": [
       "array([[[[7, 4, 6, 2],\n",
       "         [6, 1, 5, 3],\n",
       "         [4, 0, 9, 4],\n",
       "         [8, 7, 2, 7]],\n",
       "\n",
       "        [[4, 5, 1, 6],\n",
       "         [9, 1, 1, 1],\n",
       "         [3, 3, 8, 9],\n",
       "         [1, 4, 0, 6]],\n",
       "\n",
       "        [[7, 3, 4, 9],\n",
       "         [4, 6, 4, 7],\n",
       "         [0, 4, 4, 6],\n",
       "         [6, 0, 4, 6]]],\n",
       "\n",
       "\n",
       "       [[[0, 1, 2, 5],\n",
       "         [9, 2, 1, 2],\n",
       "         [3, 2, 3, 3],\n",
       "         [1, 6, 5, 9]],\n",
       "\n",
       "        [[2, 2, 3, 8],\n",
       "         [0, 9, 5, 0],\n",
       "         [0, 5, 2, 8],\n",
       "         [6, 8, 9, 4]],\n",
       "\n",
       "        [[9, 5, 2, 5],\n",
       "         [3, 3, 9, 9],\n",
       "         [6, 8, 9, 4],\n",
       "         [0, 5, 7, 8]]]])"
      ]
     },
     "execution_count": 30,
     "metadata": {},
     "output_type": "execute_result"
    }
   ],
   "source": [
    "# a4 get\n",
    "a4[:,:,:,:4]"
   ]
  },
  {
   "cell_type": "code",
   "execution_count": 31,
   "id": "5c7ed20d",
   "metadata": {},
   "outputs": [
    {
     "data": {
      "text/plain": [
       "array([[[[7, 4],\n",
       "         [6, 1],\n",
       "         [4, 0],\n",
       "         [8, 7]],\n",
       "\n",
       "        [[4, 5],\n",
       "         [9, 1],\n",
       "         [3, 3],\n",
       "         [1, 4]],\n",
       "\n",
       "        [[7, 3],\n",
       "         [4, 6],\n",
       "         [0, 4],\n",
       "         [6, 0]]],\n",
       "\n",
       "\n",
       "       [[[0, 1],\n",
       "         [9, 2],\n",
       "         [3, 2],\n",
       "         [1, 6]],\n",
       "\n",
       "        [[2, 2],\n",
       "         [0, 9],\n",
       "         [0, 5],\n",
       "         [6, 8]],\n",
       "\n",
       "        [[9, 5],\n",
       "         [3, 3],\n",
       "         [6, 8],\n",
       "         [0, 5]]]])"
      ]
     },
     "execution_count": 31,
     "metadata": {},
     "output_type": "execute_result"
    }
   ],
   "source": [
    "a4[:,:,:,:2]"
   ]
  },
  {
   "cell_type": "code",
   "execution_count": 32,
   "id": "15d6f460",
   "metadata": {},
   "outputs": [
    {
     "data": {
      "text/plain": [
       "array([[[[7, 4, 6, 2, 7],\n",
       "         [6, 1, 5, 3, 6],\n",
       "         [4, 0, 9, 4, 4],\n",
       "         [8, 7, 2, 7, 4]],\n",
       "\n",
       "        [[4, 5, 1, 6, 8],\n",
       "         [9, 1, 1, 1, 6],\n",
       "         [3, 3, 8, 9, 0],\n",
       "         [1, 4, 0, 6, 4]],\n",
       "\n",
       "        [[7, 3, 4, 9, 7],\n",
       "         [4, 6, 4, 7, 3],\n",
       "         [0, 4, 4, 6, 8],\n",
       "         [6, 0, 4, 6, 7]]],\n",
       "\n",
       "\n",
       "       [[[0, 1, 2, 5, 7],\n",
       "         [9, 2, 1, 2, 3],\n",
       "         [3, 2, 3, 3, 4],\n",
       "         [1, 6, 5, 9, 1]],\n",
       "\n",
       "        [[2, 2, 3, 8, 0],\n",
       "         [0, 9, 5, 0, 7],\n",
       "         [0, 5, 2, 8, 4],\n",
       "         [6, 8, 9, 4, 7]],\n",
       "\n",
       "        [[9, 5, 2, 5, 8],\n",
       "         [3, 3, 9, 9, 9],\n",
       "         [6, 8, 9, 4, 9],\n",
       "         [0, 5, 7, 8, 4]]]])"
      ]
     },
     "execution_count": 32,
     "metadata": {},
     "output_type": "execute_result"
    }
   ],
   "source": [
    "a4[:2,:,:,:]"
   ]
  },
  {
   "cell_type": "code",
   "execution_count": 33,
   "id": "ca158fa2",
   "metadata": {},
   "outputs": [
    {
     "data": {
      "text/plain": [
       "array([[[[7, 4, 6, 2, 7],\n",
       "         [6, 1, 5, 3, 6],\n",
       "         [4, 0, 9, 4, 4],\n",
       "         [8, 7, 2, 7, 4]],\n",
       "\n",
       "        [[4, 5, 1, 6, 8],\n",
       "         [9, 1, 1, 1, 6],\n",
       "         [3, 3, 8, 9, 0],\n",
       "         [1, 4, 0, 6, 4]],\n",
       "\n",
       "        [[7, 3, 4, 9, 7],\n",
       "         [4, 6, 4, 7, 3],\n",
       "         [0, 4, 4, 6, 8],\n",
       "         [6, 0, 4, 6, 7]]]])"
      ]
     },
     "execution_count": 33,
     "metadata": {},
     "output_type": "execute_result"
    }
   ],
   "source": [
    "a4[:1,:,:,:]"
   ]
  },
  {
   "cell_type": "code",
   "execution_count": 34,
   "id": "47c43968",
   "metadata": {},
   "outputs": [
    {
     "data": {
      "text/plain": [
       "array([[[[7, 4, 6, 2, 7]]]])"
      ]
     },
     "execution_count": 34,
     "metadata": {},
     "output_type": "execute_result"
    }
   ],
   "source": [
    "a4[:1,:1,:1,:]"
   ]
  },
  {
   "cell_type": "code",
   "execution_count": 35,
   "id": "871dca9f",
   "metadata": {},
   "outputs": [
    {
     "data": {
      "text/plain": [
       "array([[[[7, 4, 6, 2, 7]],\n",
       "\n",
       "        [[4, 5, 1, 6, 8]]]])"
      ]
     },
     "execution_count": 35,
     "metadata": {},
     "output_type": "execute_result"
    }
   ],
   "source": [
    "a4[:1,:2,:1,:]"
   ]
  },
  {
   "cell_type": "code",
   "execution_count": 36,
   "id": "80a82127",
   "metadata": {},
   "outputs": [
    {
     "data": {
      "text/plain": [
       "array([[[[7, 4, 6, 2, 7]],\n",
       "\n",
       "        [[4, 5, 1, 6, 8]],\n",
       "\n",
       "        [[7, 3, 4, 9, 7]]]])"
      ]
     },
     "execution_count": 36,
     "metadata": {},
     "output_type": "execute_result"
    }
   ],
   "source": [
    "a4[:1,:3,:1,:]"
   ]
  },
  {
   "cell_type": "markdown",
   "id": "8dfc7fcb",
   "metadata": {},
   "source": [
    "# Manipulating Arrays & comparing Arrays"
   ]
  },
  {
   "cell_type": "markdown",
   "id": "1e5af53e",
   "metadata": {},
   "source": [
    "## Arithmetic"
   ]
  },
  {
   "cell_type": "code",
   "execution_count": 40,
   "id": "210064e3",
   "metadata": {},
   "outputs": [
    {
     "data": {
      "text/plain": [
       "array([1, 2, 3])"
      ]
     },
     "execution_count": 40,
     "metadata": {},
     "output_type": "execute_result"
    }
   ],
   "source": [
    "a1\n"
   ]
  },
  {
   "cell_type": "code",
   "execution_count": 42,
   "id": "493a31e9",
   "metadata": {},
   "outputs": [
    {
     "data": {
      "text/plain": [
       "array([1., 1., 1.])"
      ]
     },
     "execution_count": 42,
     "metadata": {},
     "output_type": "execute_result"
    }
   ],
   "source": [
    "ones = np.ones(3)\n",
    "ones"
   ]
  },
  {
   "cell_type": "code",
   "execution_count": 43,
   "id": "2187c722",
   "metadata": {},
   "outputs": [
    {
     "data": {
      "text/plain": [
       "array([2., 3., 4.])"
      ]
     },
     "execution_count": 43,
     "metadata": {},
     "output_type": "execute_result"
    }
   ],
   "source": [
    "a1 + ones"
   ]
  },
  {
   "cell_type": "code",
   "execution_count": 44,
   "id": "cc7dba1d",
   "metadata": {},
   "outputs": [
    {
     "data": {
      "text/plain": [
       "array([0., 1., 2.])"
      ]
     },
     "execution_count": 44,
     "metadata": {},
     "output_type": "execute_result"
    }
   ],
   "source": [
    "a1 - ones"
   ]
  },
  {
   "cell_type": "code",
   "execution_count": 45,
   "id": "80d62159",
   "metadata": {},
   "outputs": [
    {
     "data": {
      "text/plain": [
       "array([1., 2., 3.])"
      ]
     },
     "execution_count": 45,
     "metadata": {},
     "output_type": "execute_result"
    }
   ],
   "source": [
    "a1 * ones"
   ]
  },
  {
   "cell_type": "code",
   "execution_count": 46,
   "id": "8bc3bedd",
   "metadata": {},
   "outputs": [
    {
     "data": {
      "text/plain": [
       "array([[1, 2, 3],\n",
       "       [4, 5, 6]])"
      ]
     },
     "execution_count": 46,
     "metadata": {},
     "output_type": "execute_result"
    }
   ],
   "source": [
    "a2"
   ]
  },
  {
   "cell_type": "code",
   "execution_count": 47,
   "id": "9ee99a98",
   "metadata": {},
   "outputs": [
    {
     "data": {
      "text/plain": [
       "array([[ 1,  4,  9],\n",
       "       [ 4, 10, 18]])"
      ]
     },
     "execution_count": 47,
     "metadata": {},
     "output_type": "execute_result"
    }
   ],
   "source": [
    "a1 * a2\n",
    "# [1., 2., 3.] * [1, 2, 3]\n",
    "# [1., 2., 3.] *  [4, 5, 6]"
   ]
  },
  {
   "cell_type": "code",
   "execution_count": 48,
   "id": "67ac864e",
   "metadata": {},
   "outputs": [
    {
     "data": {
      "text/plain": [
       "array([[[  1,   4,   9],\n",
       "        [ 16,  25,  36]],\n",
       "\n",
       "       [[  7,  16,  27],\n",
       "        [ 40,  55,  72]],\n",
       "\n",
       "       [[ 13,  28,  45],\n",
       "        [ 64,  85, 108]]])"
      ]
     },
     "execution_count": 48,
     "metadata": {},
     "output_type": "execute_result"
    }
   ],
   "source": [
    "a2 * a3"
   ]
  },
  {
   "cell_type": "code",
   "execution_count": 49,
   "id": "a2117515",
   "metadata": {},
   "outputs": [
    {
     "data": {
      "text/plain": [
       "array([[[ 1,  4,  9],\n",
       "        [ 4, 10, 18]],\n",
       "\n",
       "       [[ 7, 16, 27],\n",
       "        [10, 22, 36]],\n",
       "\n",
       "       [[13, 28, 45],\n",
       "        [16, 34, 54]]])"
      ]
     },
     "execution_count": 49,
     "metadata": {},
     "output_type": "execute_result"
    }
   ],
   "source": [
    "a1 * a3"
   ]
  },
  {
   "cell_type": "code",
   "execution_count": 50,
   "id": "86d306f2",
   "metadata": {},
   "outputs": [
    {
     "data": {
      "text/plain": [
       "array([1., 2., 3.])"
      ]
     },
     "execution_count": 50,
     "metadata": {},
     "output_type": "execute_result"
    }
   ],
   "source": [
    "# How to reshape a2 to a3 ?\n",
    "a1 / ones"
   ]
  },
  {
   "cell_type": "code",
   "execution_count": 51,
   "id": "c0abbcf9",
   "metadata": {},
   "outputs": [
    {
     "data": {
      "text/plain": [
       "array([[1, 1, 1],\n",
       "       [4, 2, 2]], dtype=int32)"
      ]
     },
     "execution_count": 51,
     "metadata": {},
     "output_type": "execute_result"
    }
   ],
   "source": [
    "# Floor divsion removed the decimals (rounds down)\n",
    "a2 // a1 "
   ]
  },
  {
   "cell_type": "code",
   "execution_count": 52,
   "id": "272718ad",
   "metadata": {},
   "outputs": [
    {
     "data": {
      "text/plain": [
       "array([[1. , 1. , 1. ],\n",
       "       [4. , 2.5, 2. ]])"
      ]
     },
     "execution_count": 52,
     "metadata": {},
     "output_type": "execute_result"
    }
   ],
   "source": [
    "a2 / a1"
   ]
  },
  {
   "cell_type": "code",
   "execution_count": 53,
   "id": "de1f3b4a",
   "metadata": {},
   "outputs": [
    {
     "data": {
      "text/plain": [
       "array([[ 1,  4,  9],\n",
       "       [16, 25, 36]], dtype=int32)"
      ]
     },
     "execution_count": 53,
     "metadata": {},
     "output_type": "execute_result"
    }
   ],
   "source": [
    "a2 ** 2"
   ]
  },
  {
   "cell_type": "code",
   "execution_count": 54,
   "id": "2d67e032",
   "metadata": {},
   "outputs": [
    {
     "data": {
      "text/plain": [
       "array([[ 1,  4,  9],\n",
       "       [16, 25, 36]], dtype=int32)"
      ]
     },
     "execution_count": 54,
     "metadata": {},
     "output_type": "execute_result"
    }
   ],
   "source": [
    "np.square(a2) # you can use"
   ]
  },
  {
   "cell_type": "code",
   "execution_count": 55,
   "id": "ede9e0ee",
   "metadata": {},
   "outputs": [
    {
     "data": {
      "text/plain": [
       "array([2., 3., 4.])"
      ]
     },
     "execution_count": 55,
     "metadata": {},
     "output_type": "execute_result"
    }
   ],
   "source": [
    "np.add(a1, ones)"
   ]
  },
  {
   "cell_type": "code",
   "execution_count": 56,
   "id": "70c12d28",
   "metadata": {},
   "outputs": [
    {
     "data": {
      "text/plain": [
       "array([1, 0, 1], dtype=int32)"
      ]
     },
     "execution_count": 56,
     "metadata": {},
     "output_type": "execute_result"
    }
   ],
   "source": [
    "a1 % 2"
   ]
  },
  {
   "cell_type": "code",
   "execution_count": 57,
   "id": "65062de9",
   "metadata": {},
   "outputs": [
    {
     "data": {
      "text/plain": [
       "array([1, 0, 1], dtype=int32)"
      ]
     },
     "execution_count": 57,
     "metadata": {},
     "output_type": "execute_result"
    }
   ],
   "source": [
    "np.mod(a1, 2)"
   ]
  },
  {
   "cell_type": "code",
   "execution_count": 58,
   "id": "4e0b5bed",
   "metadata": {},
   "outputs": [
    {
     "data": {
      "text/plain": [
       "array([0.5, 1. , 1.5])"
      ]
     },
     "execution_count": 58,
     "metadata": {},
     "output_type": "execute_result"
    }
   ],
   "source": [
    "np.divide(a1, 2)"
   ]
  },
  {
   "cell_type": "code",
   "execution_count": 59,
   "id": "7e4cea20",
   "metadata": {},
   "outputs": [
    {
     "data": {
      "text/plain": [
       "array([[0.        , 0.69314718, 1.09861229],\n",
       "       [1.38629436, 1.60943791, 1.79175947]])"
      ]
     },
     "execution_count": 59,
     "metadata": {},
     "output_type": "execute_result"
    }
   ],
   "source": [
    "np.log(a2)"
   ]
  },
  {
   "cell_type": "markdown",
   "id": "ae558d5e",
   "metadata": {},
   "source": [
    "# aggregation \n",
    "Aggregation = performing the same operation on number of things"
   ]
  },
  {
   "cell_type": "code",
   "execution_count": 61,
   "id": "0f1dc858",
   "metadata": {},
   "outputs": [
    {
     "data": {
      "text/plain": [
       "list"
      ]
     },
     "execution_count": 61,
     "metadata": {},
     "output_type": "execute_result"
    }
   ],
   "source": [
    "listy_list = [1,2,3]\n",
    "type(listy_list)"
   ]
  },
  {
   "cell_type": "code",
   "execution_count": 62,
   "id": "50f5f4b5",
   "metadata": {},
   "outputs": [
    {
     "data": {
      "text/plain": [
       "6"
      ]
     },
     "execution_count": 62,
     "metadata": {},
     "output_type": "execute_result"
    }
   ],
   "source": [
    "sum(listy_list)"
   ]
  },
  {
   "cell_type": "code",
   "execution_count": 63,
   "id": "31ce4c67",
   "metadata": {},
   "outputs": [
    {
     "data": {
      "text/plain": [
       "array([1, 2, 3])"
      ]
     },
     "execution_count": 63,
     "metadata": {},
     "output_type": "execute_result"
    }
   ],
   "source": [
    "a1"
   ]
  },
  {
   "cell_type": "code",
   "execution_count": 64,
   "id": "e1a089ba",
   "metadata": {},
   "outputs": [
    {
     "data": {
      "text/plain": [
       "6"
      ]
     },
     "execution_count": 64,
     "metadata": {},
     "output_type": "execute_result"
    }
   ],
   "source": [
    "sum(a1)"
   ]
  },
  {
   "cell_type": "code",
   "execution_count": 65,
   "id": "cf16cb3f",
   "metadata": {},
   "outputs": [
    {
     "data": {
      "text/plain": [
       "6"
      ]
     },
     "execution_count": 65,
     "metadata": {},
     "output_type": "execute_result"
    }
   ],
   "source": [
    "np.sum(a1)"
   ]
  },
  {
   "cell_type": "code",
   "execution_count": 66,
   "id": "34b9cf76",
   "metadata": {},
   "outputs": [],
   "source": [
    "#use pythons methods on Pythion dataType , use numpy methods on Numpy"
   ]
  },
  {
   "cell_type": "code",
   "execution_count": 68,
   "id": "3d787411",
   "metadata": {},
   "outputs": [
    {
     "data": {
      "text/plain": [
       "100000"
      ]
     },
     "execution_count": 68,
     "metadata": {},
     "output_type": "execute_result"
    }
   ],
   "source": [
    "massive_array = np.random.random(100000)\n",
    "massive_array.size"
   ]
  },
  {
   "cell_type": "code",
   "execution_count": 69,
   "id": "a343a993",
   "metadata": {},
   "outputs": [
    {
     "data": {
      "text/plain": [
       "array([0.61853275, 0.65194493, 0.92514612, 0.42859065, 0.11154318,\n",
       "       0.1621305 , 0.82104082, 0.56651826, 0.92231069, 0.75206744])"
      ]
     },
     "execution_count": 69,
     "metadata": {},
     "output_type": "execute_result"
    }
   ],
   "source": [
    "massive_array[:10]"
   ]
  },
  {
   "cell_type": "code",
   "execution_count": 70,
   "id": "918679ac",
   "metadata": {},
   "outputs": [
    {
     "name": "stdout",
     "output_type": "stream",
     "text": [
      "10.2 ms ± 1.3 ms per loop (mean ± std. dev. of 7 runs, 100 loops each)\n",
      "43.1 µs ± 3.35 µs per loop (mean ± std. dev. of 7 runs, 10,000 loops each)\n"
     ]
    }
   ],
   "source": [
    "%timeit sum(massive_array) # Pythons's Sum()\n",
    "%timeit np.sum(massive_array) # Numpy's sum()"
   ]
  },
  {
   "cell_type": "code",
   "execution_count": null,
   "id": "e79bd1f2",
   "metadata": {},
   "outputs": [],
   "source": [
    "10200 micro seconds is equal 10.2 ms seconds"
   ]
  },
  {
   "cell_type": "code",
   "execution_count": 71,
   "id": "05ebcd4d",
   "metadata": {},
   "outputs": [
    {
     "data": {
      "text/plain": [
       "237.2093023255814"
      ]
     },
     "execution_count": 71,
     "metadata": {},
     "output_type": "execute_result"
    }
   ],
   "source": [
    "10200 / 43 # this times faster than Pythons sum"
   ]
  },
  {
   "cell_type": "code",
   "execution_count": 72,
   "id": "01db6341",
   "metadata": {},
   "outputs": [
    {
     "data": {
      "text/plain": [
       "array([[1, 2, 3],\n",
       "       [4, 5, 6]])"
      ]
     },
     "execution_count": 72,
     "metadata": {},
     "output_type": "execute_result"
    }
   ],
   "source": [
    "a2"
   ]
  },
  {
   "cell_type": "code",
   "execution_count": 73,
   "id": "7ac61212",
   "metadata": {},
   "outputs": [
    {
     "data": {
      "text/plain": [
       "3.5"
      ]
     },
     "execution_count": 73,
     "metadata": {},
     "output_type": "execute_result"
    }
   ],
   "source": [
    "np.mean(a2)"
   ]
  },
  {
   "cell_type": "code",
   "execution_count": 74,
   "id": "389e72af",
   "metadata": {},
   "outputs": [
    {
     "data": {
      "text/plain": [
       "6"
      ]
     },
     "execution_count": 74,
     "metadata": {},
     "output_type": "execute_result"
    }
   ],
   "source": [
    "np.max(a2)"
   ]
  },
  {
   "cell_type": "code",
   "execution_count": 75,
   "id": "e7fc14b9",
   "metadata": {},
   "outputs": [
    {
     "data": {
      "text/plain": [
       "1"
      ]
     },
     "execution_count": 75,
     "metadata": {},
     "output_type": "execute_result"
    }
   ],
   "source": [
    "np.min(a2)"
   ]
  },
  {
   "cell_type": "code",
   "execution_count": 76,
   "id": "d08005f8",
   "metadata": {},
   "outputs": [
    {
     "data": {
      "text/plain": [
       "1.707825127659933"
      ]
     },
     "execution_count": 76,
     "metadata": {},
     "output_type": "execute_result"
    }
   ],
   "source": [
    "# standard deviation = a measure of how spread out a group of numbers\n",
    "np.std(a2)"
   ]
  },
  {
   "cell_type": "code",
   "execution_count": 78,
   "id": "17561c6f",
   "metadata": {},
   "outputs": [
    {
     "data": {
      "text/plain": [
       "2.9166666666666665"
      ]
     },
     "execution_count": 78,
     "metadata": {},
     "output_type": "execute_result"
    }
   ],
   "source": [
    "# Variance = measure of the average degree to which each number is difference\n",
    "# Higher variance = wider range of number\n",
    "# Lower variance = lower range of numbers\n",
    "np.var(a2)"
   ]
  },
  {
   "cell_type": "code",
   "execution_count": null,
   "id": "4efc46bb",
   "metadata": {},
   "outputs": [],
   "source": []
  },
  {
   "cell_type": "code",
   "execution_count": null,
   "id": "39bf3079",
   "metadata": {},
   "outputs": [],
   "source": []
  }
 ],
 "metadata": {
  "kernelspec": {
   "display_name": "Python 3 (ipykernel)",
   "language": "python",
   "name": "python3"
  },
  "language_info": {
   "codemirror_mode": {
    "name": "ipython",
    "version": 3
   },
   "file_extension": ".py",
   "mimetype": "text/x-python",
   "name": "python",
   "nbconvert_exporter": "python",
   "pygments_lexer": "ipython3",
   "version": "3.9.7"
  }
 },
 "nbformat": 4,
 "nbformat_minor": 5
}
